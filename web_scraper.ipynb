{
 "cells": [
  {
   "cell_type": "markdown",
   "metadata": {},
   "source": [
    "# Data Scraping \n",
    "\n",
    "This is an exersize for data scraping. I have chosen a webpage which provides information on the 'best restaurants in yc'. "
   ]
  },
  {
   "cell_type": "code",
   "execution_count": 1,
   "metadata": {},
   "outputs": [],
   "source": [
    "# we will be using these imports\n",
    "import requests\n",
    "from bs4 import BeautifulSoup \n",
    "import pandas as pd\n",
    "import lxml.html as lh\n",
    "import csv "
   ]
  },
  {
   "cell_type": "markdown",
   "metadata": {},
   "source": [
    "### Create the Data Pipeline"
   ]
  },
  {
   "cell_type": "code",
   "execution_count": 5,
   "metadata": {},
   "outputs": [],
   "source": [
    "import os\n",
    "\n",
    "class restaurant_data_pipeline(object):\n",
    "\n",
    "    def open_spider(self, spider):\n",
    "        if not os.path.exists('./data'):\n",
    "            os.mkdir('./data')\n",
    "        self.file = open('./data/restaurant_data.csv', 'w')\n",
    "        \n",
    "    \n",
    "    def close_spider(self, spider):\n",
    "        self.file.close()\n",
    "\n",
    "    def process_item(self, spider):\n",
    "        w = csv.DictWriter(self.file,['Type','Name','Price','Link']) \n",
    "        w.writeheader()\n",
    "        for rest in spider.data: \n",
    "            w.writerow(rest)            # write the dictionary row to csv\n",
    "        "
   ]
  },
  {
   "cell_type": "code",
   "execution_count": null,
   "metadata": {},
   "outputs": [],
   "source": []
  },
  {
   "cell_type": "code",
   "execution_count": 6,
   "metadata": {},
   "outputs": [],
   "source": [
    "import logging\n",
    "\n",
    "class restaurant_scraper():\n",
    "   \n",
    "    def __init__(self):\n",
    "        self.name = \"restaurants\"\n",
    "        self.start_urls = [\n",
    "        \"https://www.cntraveler.com/gallery/best-restaurants-in-new-york-city\"    \n",
    "        ]\n",
    "        self.data = None\n",
    "    \n",
    "    def parse(self):\n",
    "        for url in self.start_urls:\n",
    "            page = requests.get(url)\n",
    "            soup = BeautifulSoup(page.content, \"lxml\")\n",
    "            table = soup.find('div', attrs = {'class':'gallery-items-container'}) \n",
    "\n",
    "            restaurants = []\n",
    "            for row in table.findAll('div' , attrs = {'class' : 'image-content-container'}): \n",
    "                # build a restaurant dictionary\n",
    "                restaurant = {} \n",
    "                restaurant['Type'] = row.p.text \n",
    "                restaurant['Name'] = row.h2.text \n",
    "                # we want to get the value of the price 'tag' \n",
    "                rating = row.find('div' , attrs = {'class' : 'ratings'}) # we know that it is in ratings\n",
    "                price = rating.find('p' , attrs = { 'class' : 'price'})  # it is further in price\n",
    "                # need to take care of the case where there is no price listed\n",
    "                if price != None:\n",
    "                    restaurant['Price']  =  price.contents     # \n",
    "                else:\n",
    "                    restaurant[\"Price\"] = None\n",
    "\n",
    "                restaurant['Link']   = row.a['href']   \n",
    "                restaurants.append(restaurant)\n",
    "                \n",
    "            self.data = restaurants\n"
   ]
  },
  {
   "cell_type": "markdown",
   "metadata": {},
   "source": [
    "# perform the scraping"
   ]
  },
  {
   "cell_type": "code",
   "execution_count": 7,
   "metadata": {},
   "outputs": [],
   "source": [
    "# make the spider object\n",
    "r = restaurant_scraper()\n",
    "# parse\n",
    "r.parse()\n",
    "# make the pipeline\n",
    "pl = restaurant_data_pipeline()\n",
    "pl.open_spider(r)\n",
    "pl.process_item(r)\n",
    "pl.close_spider(r)\n"
   ]
  },
  {
   "cell_type": "code",
   "execution_count": null,
   "metadata": {},
   "outputs": [],
   "source": []
  },
  {
   "cell_type": "code",
   "execution_count": null,
   "metadata": {},
   "outputs": [],
   "source": []
  },
  {
   "cell_type": "code",
   "execution_count": null,
   "metadata": {},
   "outputs": [],
   "source": []
  }
 ],
 "metadata": {
  "kernelspec": {
   "display_name": "Python 3",
   "language": "python",
   "name": "python3"
  },
  "language_info": {
   "codemirror_mode": {
    "name": "ipython",
    "version": 3
   },
   "file_extension": ".py",
   "mimetype": "text/x-python",
   "name": "python",
   "nbconvert_exporter": "python",
   "pygments_lexer": "ipython3",
   "version": "3.7.1"
  }
 },
 "nbformat": 4,
 "nbformat_minor": 2
}
